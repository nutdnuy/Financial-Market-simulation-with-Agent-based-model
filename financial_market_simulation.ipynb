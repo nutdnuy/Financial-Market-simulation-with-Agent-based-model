{
 "cells": [
  {
   "cell_type": "markdown",
   "id": "5d40b74b",
   "metadata": {},
   "source": [
    "# Financial Market Simulation with Agent-Based Model\n",
    "\n",
    "This notebook demonstrates a simple financial market simulation using an agent-based model. Agents in the market interact based on predefined strategies, influencing the price over time."
   ]
  },
  {
   "cell_type": "markdown",
   "id": "9a07f9ba",
   "metadata": {},
   "source": [
    "## Importing Necessary Libraries"
   ]
  },
  {
   "cell_type": "code",
   "execution_count": null,
   "id": "9f54d370",
   "metadata": {},
   "outputs": [],
   "source": [
    "import numpy as np\n",
    "import matplotlib.pyplot as plt\n",
    "from collections import defaultdict"
   ]
  },
  {
   "cell_type": "markdown",
   "id": "4d69c4ed",
   "metadata": {},
   "source": [
    "## Agent Definitions and Utility Functions"
   ]
  },
  {
   "cell_type": "code",
   "execution_count": null,
   "id": "9556443a",
   "metadata": {},
   "outputs": [],
   "source": [
    "def trade_technical(prices):\n",
    "    if len(prices) < 2:\n",
    "        return 0\n",
    "    return 1 if prices[-1] > prices[-2] else -1\n",
    "\n",
    "def trade_fundamental(price, fair_value):\n",
    "    return 1 if price < fair_value else -1\n",
    "\n",
    "def trade_hft(prices):\n",
    "    return np.random.choice([-1, 0, 1])\n",
    "\n",
    "def trade_passive():\n",
    "    return 1\n",
    "\n",
    "def update_agent(agent, trade_volume, price):\n",
    "    agent['wealth'] -= trade_volume * price\n",
    "    agent['position'] += trade_volume\n",
    "\n",
    "def create_agents(n_agents, strategies, wealth=10000, position=0):\n",
    "    agents = []\n",
    "    for _ in range(n_agents):\n",
    "        strategy = np.random.choice(strategies)\n",
    "        agents.append({'strategy': strategy, 'wealth': wealth, 'position': position})\n",
    "    return agents"
   ]
  },
  {
   "cell_type": "markdown",
   "id": "4f0699a9",
   "metadata": {},
   "source": [
    "## Market Simulation Function"
   ]
  },
  {
   "cell_type": "code",
   "execution_count": null,
   "id": "ea9fddc0",
   "metadata": {},
   "outputs": [],
   "source": [
    "def simulate_market(steps, initial_price, fair_value, agents):\n",
    "    prices = [initial_price]\n",
    "    volumes = []\n",
    "    \n",
    "    for _ in range(steps):\n",
    "        total_demand = 0\n",
    "        for agent in agents:\n",
    "            strategy = agent['strategy']\n",
    "            if strategy == 'technical':\n",
    "                trade = trade_technical(prices)\n",
    "            elif strategy == 'fundamental':\n",
    "                trade = trade_fundamental(prices[-1], fair_value)\n",
    "            elif strategy == 'hft':\n",
    "                trade = trade_hft(prices)\n",
    "            elif strategy == 'passive':\n",
    "                trade = trade_passive()\n",
    "            else:\n",
    "                trade = 0\n",
    "            \n",
    "            max_trade = agent['wealth'] // prices[-1]\n",
    "            trade_volume = min(max_trade, abs(trade)) * np.sign(trade)\n",
    "            update_agent(agent, trade_volume, prices[-1])\n",
    "            total_demand += trade_volume\n",
    "\n",
    "        price_change = 0.1 * total_demand / len(agents)\n",
    "        new_price = max(0, prices[-1] + price_change)\n",
    "        prices.append(new_price)\n",
    "        volumes.append(abs(total_demand))\n",
    "\n",
    "    return prices, volumes"
   ]
  },
  {
   "cell_type": "markdown",
   "id": "1d185a9d",
   "metadata": {},
   "source": [
    "## Running the Simulation"
   ]
  },
  {
   "cell_type": "code",
   "execution_count": null,
   "id": "31def60e",
   "metadata": {},
   "outputs": [],
   "source": [
    "# Parameters\n",
    "n_agents = 100\n",
    "strategies = ['technical', 'fundamental', 'hft', 'passive']\n",
    "agents = create_agents(n_agents, strategies)\n",
    "initial_price = 100\n",
    "fair_value = 120\n",
    "steps = 200\n",
    "\n",
    "# Run simulation\n",
    "prices, volumes = simulate_market(steps, initial_price, fair_value, agents)"
   ]
  },
  {
   "cell_type": "markdown",
   "id": "83120367",
   "metadata": {},
   "source": [
    "## Visualizing the Results"
   ]
  },
  {
   "cell_type": "code",
   "execution_count": null,
   "id": "be752666",
   "metadata": {},
   "outputs": [],
   "source": [
    "plt.figure(figsize=(12, 6))\n",
    "\n",
    "# Plot prices\n",
    "plt.subplot(2, 1, 1)\n",
    "plt.plot(prices, label='Price')\n",
    "plt.axhline(y=fair_value, color='r', linestyle='--', label='Fair Value')\n",
    "plt.title('Market Price over Time')\n",
    "plt.xlabel('Time Step')\n",
    "plt.ylabel('Price')\n",
    "plt.legend()\n",
    "\n",
    "# Plot volumes\n",
    "plt.subplot(2, 1, 2)\n",
    "plt.bar(range(len(volumes)), volumes, color='gray', alpha=0.7, label='Volume')\n",
    "plt.title('Trading Volume over Time')\n",
    "plt.xlabel('Time Step')\n",
    "plt.ylabel('Volume')\n",
    "plt.legend()\n",
    "\n",
    "plt.tight_layout()\n",
    "plt.show()"
   ]
  },
  {
   "cell_type": "markdown",
   "id": "748127c5",
   "metadata": {},
   "source": [
    "## Final Agent Statistics"
   ]
  },
  {
   "cell_type": "code",
   "execution_count": null,
   "id": "44547446",
   "metadata": {},
   "outputs": [],
   "source": [
    "final_stats = defaultdict(lambda: {'wealth': 0, 'position': 0, 'count': 0})\n",
    "\n",
    "for agent in agents:\n",
    "    strategy = agent['strategy']\n",
    "    final_stats[strategy]['wealth'] += agent['wealth']\n",
    "    final_stats[strategy]['position'] += agent['position']\n",
    "    final_stats[strategy]['count'] += 1\n",
    "\n",
    "print(\"Final Statistics by Strategy:\")\n",
    "for strategy, stats in final_stats.items():\n",
    "    avg_wealth = stats['wealth'] / stats['count']\n",
    "    avg_position = stats['position'] / stats['count']\n",
    "    print(f\"{strategy.capitalize()} - Avg Wealth: {avg_wealth:.2f}, Avg Position: {avg_position:.2f}\")"
   ]
  }
 ],
 "metadata": {},
 "nbformat": 4,
 "nbformat_minor": 5
}
